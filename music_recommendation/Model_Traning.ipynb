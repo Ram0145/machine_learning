{
 "cells": [
  {
   "cell_type": "code",
   "execution_count": 1,
   "id": "d188efed",
   "metadata": {},
   "outputs": [],
   "source": [
    "import pandas as pd"
   ]
  },
  {
   "cell_type": "code",
   "execution_count": 2,
   "id": "4f8e4476",
   "metadata": {},
   "outputs": [],
   "source": [
    "df = pd.read_csv(\"spotify_millsongdata.csv\")"
   ]
  },
  {
   "cell_type": "code",
   "execution_count": 3,
   "id": "d4374e39",
   "metadata": {},
   "outputs": [
    {
     "data": {
      "text/html": [
       "<div>\n",
       "<style scoped>\n",
       "    .dataframe tbody tr th:only-of-type {\n",
       "        vertical-align: middle;\n",
       "    }\n",
       "\n",
       "    .dataframe tbody tr th {\n",
       "        vertical-align: top;\n",
       "    }\n",
       "\n",
       "    .dataframe thead th {\n",
       "        text-align: right;\n",
       "    }\n",
       "</style>\n",
       "<table border=\"1\" class=\"dataframe\">\n",
       "  <thead>\n",
       "    <tr style=\"text-align: right;\">\n",
       "      <th></th>\n",
       "      <th>artist</th>\n",
       "      <th>song</th>\n",
       "      <th>link</th>\n",
       "      <th>text</th>\n",
       "    </tr>\n",
       "  </thead>\n",
       "  <tbody>\n",
       "    <tr>\n",
       "      <th>0</th>\n",
       "      <td>ABBA</td>\n",
       "      <td>Ahe's My Kind Of Girl</td>\n",
       "      <td>/a/abba/ahes+my+kind+of+girl_20598417.html</td>\n",
       "      <td>Look at her face, it's a wonderful face  \\r\\nA...</td>\n",
       "    </tr>\n",
       "    <tr>\n",
       "      <th>1</th>\n",
       "      <td>ABBA</td>\n",
       "      <td>Andante, Andante</td>\n",
       "      <td>/a/abba/andante+andante_20002708.html</td>\n",
       "      <td>Take it easy with me, please  \\r\\nTouch me gen...</td>\n",
       "    </tr>\n",
       "    <tr>\n",
       "      <th>2</th>\n",
       "      <td>ABBA</td>\n",
       "      <td>As Good As New</td>\n",
       "      <td>/a/abba/as+good+as+new_20003033.html</td>\n",
       "      <td>I'll never know why I had to go  \\r\\nWhy I had...</td>\n",
       "    </tr>\n",
       "    <tr>\n",
       "      <th>3</th>\n",
       "      <td>ABBA</td>\n",
       "      <td>Bang</td>\n",
       "      <td>/a/abba/bang_20598415.html</td>\n",
       "      <td>Making somebody happy is a question of give an...</td>\n",
       "    </tr>\n",
       "    <tr>\n",
       "      <th>4</th>\n",
       "      <td>ABBA</td>\n",
       "      <td>Bang-A-Boomerang</td>\n",
       "      <td>/a/abba/bang+a+boomerang_20002668.html</td>\n",
       "      <td>Making somebody happy is a question of give an...</td>\n",
       "    </tr>\n",
       "  </tbody>\n",
       "</table>\n",
       "</div>"
      ],
      "text/plain": [
       "  artist                   song                                        link  \\\n",
       "0   ABBA  Ahe's My Kind Of Girl  /a/abba/ahes+my+kind+of+girl_20598417.html   \n",
       "1   ABBA       Andante, Andante       /a/abba/andante+andante_20002708.html   \n",
       "2   ABBA         As Good As New        /a/abba/as+good+as+new_20003033.html   \n",
       "3   ABBA                   Bang                  /a/abba/bang_20598415.html   \n",
       "4   ABBA       Bang-A-Boomerang      /a/abba/bang+a+boomerang_20002668.html   \n",
       "\n",
       "                                                text  \n",
       "0  Look at her face, it's a wonderful face  \\r\\nA...  \n",
       "1  Take it easy with me, please  \\r\\nTouch me gen...  \n",
       "2  I'll never know why I had to go  \\r\\nWhy I had...  \n",
       "3  Making somebody happy is a question of give an...  \n",
       "4  Making somebody happy is a question of give an...  "
      ]
     },
     "execution_count": 3,
     "metadata": {},
     "output_type": "execute_result"
    }
   ],
   "source": [
    "df.head()"
   ]
  },
  {
   "cell_type": "code",
   "execution_count": 4,
   "id": "282ea861",
   "metadata": {},
   "outputs": [
    {
     "data": {
      "text/plain": [
       "(57650, 4)"
      ]
     },
     "execution_count": 4,
     "metadata": {},
     "output_type": "execute_result"
    }
   ],
   "source": [
    "df.shape"
   ]
  },
  {
   "cell_type": "code",
   "execution_count": 5,
   "id": "3fe24ec9",
   "metadata": {},
   "outputs": [
    {
     "data": {
      "text/plain": [
       "artist    0\n",
       "song      0\n",
       "link      0\n",
       "text      0\n",
       "dtype: int64"
      ]
     },
     "execution_count": 5,
     "metadata": {},
     "output_type": "execute_result"
    }
   ],
   "source": [
    "df.isnull().sum()"
   ]
  },
  {
   "cell_type": "markdown",
   "id": "ea234d88",
   "metadata": {},
   "source": [
    "Dropping link column"
   ]
  },
  {
   "cell_type": "code",
   "execution_count": 6,
   "id": "12946cad",
   "metadata": {},
   "outputs": [],
   "source": [
    "df = df.sample(5000).drop(\"link\", axis =1).reset_index(drop=True)"
   ]
  },
  {
   "cell_type": "code",
   "execution_count": 7,
   "id": "2281480b",
   "metadata": {},
   "outputs": [
    {
     "data": {
      "text/html": [
       "<div>\n",
       "<style scoped>\n",
       "    .dataframe tbody tr th:only-of-type {\n",
       "        vertical-align: middle;\n",
       "    }\n",
       "\n",
       "    .dataframe tbody tr th {\n",
       "        vertical-align: top;\n",
       "    }\n",
       "\n",
       "    .dataframe thead th {\n",
       "        text-align: right;\n",
       "    }\n",
       "</style>\n",
       "<table border=\"1\" class=\"dataframe\">\n",
       "  <thead>\n",
       "    <tr style=\"text-align: right;\">\n",
       "      <th></th>\n",
       "      <th>artist</th>\n",
       "      <th>song</th>\n",
       "      <th>text</th>\n",
       "    </tr>\n",
       "  </thead>\n",
       "  <tbody>\n",
       "    <tr>\n",
       "      <th>0</th>\n",
       "      <td>Chris Brown</td>\n",
       "      <td>Fools With You</td>\n",
       "      <td>White Flag Hangs Up, I Aint Got No Room For Th...</td>\n",
       "    </tr>\n",
       "    <tr>\n",
       "      <th>1</th>\n",
       "      <td>Pearl Jam</td>\n",
       "      <td>Corduroy</td>\n",
       "      <td>The waiting drove me mad... you're finally her...</td>\n",
       "    </tr>\n",
       "    <tr>\n",
       "      <th>2</th>\n",
       "      <td>Veruca Salt</td>\n",
       "      <td>With David Bowie</td>\n",
       "      <td>\\r\\n  \\r\\n  \\r\\n  \\r\\n  \\r\\nwill it ever com...</td>\n",
       "    </tr>\n",
       "    <tr>\n",
       "      <th>3</th>\n",
       "      <td>Green Day</td>\n",
       "      <td>Stop When The Red Lights Flash</td>\n",
       "      <td>Uncomfortable silence  \\r\\nI'll kill it if you...</td>\n",
       "    </tr>\n",
       "    <tr>\n",
       "      <th>4</th>\n",
       "      <td>NOFX</td>\n",
       "      <td>Professional Crastination</td>\n",
       "      <td>Can't you see how easy it becomes?  \\r\\nProcra...</td>\n",
       "    </tr>\n",
       "  </tbody>\n",
       "</table>\n",
       "</div>"
      ],
      "text/plain": [
       "        artist                            song  \\\n",
       "0  Chris Brown                  Fools With You   \n",
       "1    Pearl Jam                        Corduroy   \n",
       "2  Veruca Salt                With David Bowie   \n",
       "3    Green Day  Stop When The Red Lights Flash   \n",
       "4         NOFX       Professional Crastination   \n",
       "\n",
       "                                                text  \n",
       "0  White Flag Hangs Up, I Aint Got No Room For Th...  \n",
       "1  The waiting drove me mad... you're finally her...  \n",
       "2    \\r\\n  \\r\\n  \\r\\n  \\r\\n  \\r\\nwill it ever com...  \n",
       "3  Uncomfortable silence  \\r\\nI'll kill it if you...  \n",
       "4  Can't you see how easy it becomes?  \\r\\nProcra...  "
      ]
     },
     "execution_count": 7,
     "metadata": {},
     "output_type": "execute_result"
    }
   ],
   "source": [
    "df.head()"
   ]
  },
  {
   "cell_type": "code",
   "execution_count": 8,
   "id": "7a5c4823",
   "metadata": {},
   "outputs": [
    {
     "data": {
      "text/plain": [
       "\"White Flag Hangs Up, I Aint Got No Room For Them (No)  \\r\\nIf Love Was A Crime, I'd Be Doing Way More Then Life  \\r\\nGirl I'm Through All I See Is You, Your My Heart Girl I Fools With You.  \\r\\n  \\r\\n(Chorus)  \\r\\nTell Me When, Tell Me Where,  \\r\\nWhatever You Want Baby I'll Do It All For You  \\r\\nKinda Love Got Me Sprung  \\r\\nI'm In It And I don't Give A Damn  \\r\\nAll These Girls On My Head Like A Fresh Cut  \\r\\nTry'na Get Yo Spot But They Gets No Love  \\r\\nKinda Love Got Me Sprung  \\r\\nBaby For The Things You Do I Fools With You  \\r\\n  \\r\\n(Second Verse)  \\r\\nYou Are what's Up, Baby I Aint Got No Reason To Lie  \\r\\nGirl I'm Feelin Locked In But Not Stuck, But You Aint Never Always The Type  \\r\\nGirl I'm Through All I See Is You  \\r\\nYour My Heart Girl I Fools With You  \\r\\n  \\r\\n(Chorus)  \\r\\nTell Me When, Tell Me Where,  \\r\\nWhatever You Want Baby I'll Do It All For You  \\r\\nKinda Love Got Me Sprung  \\r\\nI'm In It And I don't Give A Damn  \\r\\nAll These Girls On My Head Like A Fresh Cut  \\r\\nTry'na Get Yo Spot But They Gets No Love  \\r\\nKinda Love Got Me Sprung  \\r\\nBaby For The Things You Do I Fools With You  \\r\\n  \\r\\n(Bridge)  \\r\\nAnd If The Rain Falls Down, Try To Flood Us Out  \\r\\nMy Love Will Be Your Raft Girl  \\r\\nAnything You Need, Promise I Will Be (Baby)  \\r\\nYou Can Count On Me, I'm Ready Right Now  \\r\\nNo Pressure On You  \\r\\nThe Only Kinda Fool I Wanna Be, Is The Kind That Fools With You  \\r\\n  \\r\\n(Chorus)  \\r\\nTell Me When, Tell Me Where,  \\r\\nWhatever You Want Baby I'll Do It All For You  \\r\\nKinda Love Got Me Sprung  \\r\\nI'm In It And I don't Give A Damn  \\r\\nAll These Girls On My Head Like A Fresh Cut  \\r\\nTry'na Get Yo Spot But They Gets No Love  \\r\\nKinda Love Got Me Sprung  \\r\\nBaby For The Things You Do I Fools With You\\r\\n\\r\\n\""
      ]
     },
     "execution_count": 8,
     "metadata": {},
     "output_type": "execute_result"
    }
   ],
   "source": [
    "df['text'][0]"
   ]
  },
  {
   "cell_type": "code",
   "execution_count": 9,
   "id": "b9640aa2",
   "metadata": {},
   "outputs": [],
   "source": [
    "#df = df.sample(5000).reset_index()"
   ]
  },
  {
   "cell_type": "code",
   "execution_count": 10,
   "id": "8dafe23e",
   "metadata": {},
   "outputs": [
    {
     "data": {
      "text/plain": [
       "(5000, 3)"
      ]
     },
     "execution_count": 10,
     "metadata": {},
     "output_type": "execute_result"
    }
   ],
   "source": [
    "df.shape"
   ]
  },
  {
   "cell_type": "markdown",
   "id": "95f8bb2e",
   "metadata": {},
   "source": [
    "Cleaning"
   ]
  },
  {
   "cell_type": "markdown",
   "id": "5ddbc708",
   "metadata": {},
   "source": [
    "Text Cleaning/ Text Pre processing"
   ]
  },
  {
   "cell_type": "code",
   "execution_count": 11,
   "id": "81a2ebdb",
   "metadata": {},
   "outputs": [],
   "source": [
    "df['text'] = df['text'].str.lower().replace(r'^\\W\\s',' ').replace(r'\\n',' ', regex=True).replace(r'\\r',' ', regex=True)"
   ]
  },
  {
   "cell_type": "code",
   "execution_count": 12,
   "id": "e566f2a2",
   "metadata": {},
   "outputs": [
    {
     "data": {
      "text/plain": [
       "(5000, 3)"
      ]
     },
     "execution_count": 12,
     "metadata": {},
     "output_type": "execute_result"
    }
   ],
   "source": [
    "df.shape"
   ]
  },
  {
   "cell_type": "code",
   "execution_count": 13,
   "id": "e68650e0",
   "metadata": {},
   "outputs": [
    {
     "data": {
      "text/plain": [
       "0    white flag hangs up, i aint got no room for th...\n",
       "1    the waiting drove me mad... you're finally her...\n",
       "2                        will it ever come?        ...\n",
       "3    uncomfortable silence    i'll kill it if you w...\n",
       "4    can't you see how easy it becomes?    procrast...\n",
       "Name: text, dtype: object"
      ]
     },
     "execution_count": 13,
     "metadata": {},
     "output_type": "execute_result"
    }
   ],
   "source": [
    "df['text'].head()"
   ]
  },
  {
   "cell_type": "code",
   "execution_count": 14,
   "id": "b422d6ea",
   "metadata": {},
   "outputs": [
    {
     "data": {
      "text/plain": [
       "(5000, 3)"
      ]
     },
     "execution_count": 14,
     "metadata": {},
     "output_type": "execute_result"
    }
   ],
   "source": [
    "df.shape"
   ]
  },
  {
   "cell_type": "code",
   "execution_count": 15,
   "id": "9811119b",
   "metadata": {},
   "outputs": [],
   "source": [
    "import nltk"
   ]
  },
  {
   "cell_type": "code",
   "execution_count": 16,
   "id": "9fcaa83a",
   "metadata": {},
   "outputs": [],
   "source": [
    "from nltk.stem.porter import PorterStemmer"
   ]
  },
  {
   "cell_type": "code",
   "execution_count": 17,
   "id": "f8b9bde2",
   "metadata": {},
   "outputs": [],
   "source": [
    "stemmer = PorterStemmer() "
   ]
  },
  {
   "cell_type": "code",
   "execution_count": 18,
   "id": "13794436",
   "metadata": {},
   "outputs": [],
   "source": [
    "def token(txt):\n",
    "    token = nltk.word_tokenize(txt)\n",
    "    a = [stemmer.stem(w) for w in token]\n",
    "    return \" \".join(a)"
   ]
  },
  {
   "cell_type": "code",
   "execution_count": 19,
   "id": "348a97b9",
   "metadata": {},
   "outputs": [
    {
     "data": {
      "text/plain": [
       "'beauti is beauti , beauti'"
      ]
     },
     "execution_count": 19,
     "metadata": {},
     "output_type": "execute_result"
    }
   ],
   "source": [
    "token(\"beauty is beautiful, beauti\")"
   ]
  },
  {
   "cell_type": "code",
   "execution_count": 20,
   "id": "44a1f87a",
   "metadata": {},
   "outputs": [],
   "source": [
    "from sklearn.feature_extraction.text import TfidfVectorizer\n",
    "from sklearn.metrics.pairwise import cosine_similarity"
   ]
  },
  {
   "cell_type": "code",
   "execution_count": 21,
   "id": "c9e070d9",
   "metadata": {},
   "outputs": [
    {
     "data": {
      "text/plain": [
       "0       white flag hang up , i aint got no room for th...\n",
       "1       the wait drove me mad ... you 're final here a...\n",
       "2       will it ever come ? like it did for you like i...\n",
       "3       uncomfort silenc i 'll kill it if you want me ...\n",
       "4       ca n't you see how easi it becom ? procrastin ...\n",
       "                              ...                        \n",
       "4995    how mani time i say the word again and again a...\n",
       "4996    my fine feather friend with your cute littl pr...\n",
       "4997    it wa a hot hot day , middl of may , saw my ba...\n",
       "4998    [ j. gill ] tumbl dice seven on 'em , babi yea...\n",
       "4999    flood of tear and door slam stamp feet across ...\n",
       "Name: text, Length: 5000, dtype: object"
      ]
     },
     "execution_count": 21,
     "metadata": {},
     "output_type": "execute_result"
    }
   ],
   "source": [
    "df['text'].apply(lambda x: token(x))"
   ]
  },
  {
   "cell_type": "code",
   "execution_count": 22,
   "id": "51a262bf",
   "metadata": {},
   "outputs": [],
   "source": [
    "tfid = TfidfVectorizer(analyzer='word', stop_words='english')"
   ]
  },
  {
   "cell_type": "code",
   "execution_count": 23,
   "id": "ace4ab9a",
   "metadata": {},
   "outputs": [],
   "source": [
    "matrix = tfid.fit_transform(df['text'])"
   ]
  },
  {
   "cell_type": "code",
   "execution_count": 24,
   "id": "9cd00b25",
   "metadata": {},
   "outputs": [
    {
     "data": {
      "text/plain": [
       "<5000x24221 sparse matrix of type '<class 'numpy.float64'>'\n",
       "\twith 268963 stored elements in Compressed Sparse Row format>"
      ]
     },
     "execution_count": 24,
     "metadata": {},
     "output_type": "execute_result"
    }
   ],
   "source": [
    "matrix"
   ]
  },
  {
   "cell_type": "code",
   "execution_count": 25,
   "id": "3835eeba",
   "metadata": {},
   "outputs": [],
   "source": [
    "similar = cosine_similarity(matrix)"
   ]
  },
  {
   "cell_type": "code",
   "execution_count": 26,
   "id": "1a372f39",
   "metadata": {},
   "outputs": [
    {
     "data": {
      "text/plain": [
       "array([0.07698965, 1.        , 0.06999501, ..., 0.03112723, 0.03903387,\n",
       "       0.03388528])"
      ]
     },
     "execution_count": 26,
     "metadata": {},
     "output_type": "execute_result"
    }
   ],
   "source": [
    "similar[1]"
   ]
  },
  {
   "cell_type": "code",
   "execution_count": 29,
   "id": "e38030f4",
   "metadata": {},
   "outputs": [
    {
     "data": {
      "text/plain": [
       "3"
      ]
     },
     "execution_count": 29,
     "metadata": {},
     "output_type": "execute_result"
    }
   ],
   "source": [
    "df[df['song']==\"Stop When The Red Lights Flash\"].index[0]"
   ]
  },
  {
   "cell_type": "code",
   "execution_count": 30,
   "id": "77ec82dc",
   "metadata": {},
   "outputs": [
    {
     "data": {
      "text/plain": [
       "enumerate[1, 1, 1]"
      ]
     },
     "execution_count": 30,
     "metadata": {},
     "output_type": "execute_result"
    }
   ],
   "source": [
    "enumerate[1,1,1 ]"
   ]
  },
  {
   "cell_type": "code",
   "execution_count": 31,
   "id": "7fb5e4f4",
   "metadata": {},
   "outputs": [],
   "source": [
    "def recommender(song_df):\n",
    "    idx = df[df['song']==song_df].index[0]\n",
    "    distance = sorted(list(enumerate(similar[idx])), reverse = True, key = lambda x:x[1])\n",
    "    song = []\n",
    "    for s_id in distance[1:5]: \n",
    "        song.append(df.iloc[s_id[0]].song)\n",
    "    return song"
   ]
  },
  {
   "cell_type": "code",
   "execution_count": 33,
   "id": "8ebf170f",
   "metadata": {},
   "outputs": [
    {
     "data": {
      "text/plain": [
       "['Remember December',\n",
       " 'Surrender To Me',\n",
       " 'Love Me Tonight',\n",
       " 'Gonna Make You Mine']"
      ]
     },
     "execution_count": 33,
     "metadata": {},
     "output_type": "execute_result"
    }
   ],
   "source": [
    "recommender(\"Stop When The Red Lights Flash\")"
   ]
  },
  {
   "cell_type": "markdown",
   "id": "6f9ced23",
   "metadata": {},
   "source": [
    "Saving the model"
   ]
  },
  {
   "cell_type": "code",
   "execution_count": 34,
   "id": "03c78b99",
   "metadata": {},
   "outputs": [],
   "source": [
    "import pickle"
   ]
  },
  {
   "cell_type": "code",
   "execution_count": 35,
   "id": "bbf55565",
   "metadata": {},
   "outputs": [],
   "source": [
    "pickle.dump(similar, open(\"similarity.pkl\", \"wb\"))"
   ]
  },
  {
   "cell_type": "code",
   "execution_count": 36,
   "id": "be87a2e0",
   "metadata": {},
   "outputs": [],
   "source": [
    "pickle.dump(df, open(\"df.pkl\", \"wb\"))"
   ]
  },
  {
   "cell_type": "code",
   "execution_count": null,
   "id": "e2492b9e",
   "metadata": {},
   "outputs": [],
   "source": []
  }
 ],
 "metadata": {
  "kernelspec": {
   "display_name": "Python 3 (ipykernel)",
   "language": "python",
   "name": "python3"
  },
  "language_info": {
   "codemirror_mode": {
    "name": "ipython",
    "version": 3
   },
   "file_extension": ".py",
   "mimetype": "text/x-python",
   "name": "python",
   "nbconvert_exporter": "python",
   "pygments_lexer": "ipython3",
   "version": "3.10.9"
  }
 },
 "nbformat": 4,
 "nbformat_minor": 5
}
