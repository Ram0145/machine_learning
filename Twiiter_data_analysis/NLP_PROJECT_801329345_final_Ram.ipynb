{
  "cells": [
    {
      "cell_type": "markdown",
      "source": [
        "###Twitter data Sentiment analysis\n",
        "\n",
        "- Ram Sirusanagandla"
      ],
      "metadata": {
        "id": "uwtE7oBFWshn"
      },
      "id": "uwtE7oBFWshn"
    },
    {
      "cell_type": "markdown",
      "source": [
        "We are following 6 sequence of steps:\n",
        "\n",
        "1.  Web Scrapping : Using the twitter developer account's API keys and access token's we are connecting to twitter account and scrapping the data from it for University of Massachusetts. This code is commented inorder to stop downloading the data again and again. \n",
        "\n",
        "2. Pre-processing: This step is used to used to clean the data like removing the unnecessary data from it. \n",
        "\n",
        "3. Feature Extraction: In this step, we are making the data into a format which is understandable by machine while removing all the unnecessary features so that dimensions will be reduced.\n",
        "\n",
        "4. Model Training: Developing a model using embedding layer, LSTM, CNN, GRU, and dense output layers.\n",
        "\n",
        "5. Model Evaluation: Evaluating the performace of the model using precision, recall, f1 score etc. \n"
      ],
      "metadata": {
        "id": "Idhw6g56WzIf"
      },
      "id": "Idhw6g56WzIf"
    },
    {
      "cell_type": "markdown",
      "source": [
        "##Importing the required libraries"
      ],
      "metadata": {
        "id": "oLEV6qRCZ82s"
      },
      "id": "oLEV6qRCZ82s"
    },
    {
      "cell_type": "code",
      "execution_count": 2,
      "metadata": {
        "id": "826191bd",
        "colab": {
          "base_uri": "https://localhost:8080/"
        },
        "outputId": "a3aba6a8-6631-40a8-d6e9-76fa9e5d5c31"
      },
      "outputs": [
        {
          "name": "stdout",
          "output_type": "stream",
          "text": [
            "NLTK Downloader\n",
            "---------------------------------------------------------------------------\n",
            "    d) Download   l) List    u) Update   c) Config   h) Help   q) Quit\n",
            "---------------------------------------------------------------------------\n",
            "Downloader> d\n",
            "\n",
            "Download which package (l=list; x=cancel)?\n",
            "  Identifier> book\n"
          ]
        },
        {
          "output_type": "stream",
          "name": "stderr",
          "text": [
            "    Downloading collection 'book'\n",
            "       | \n",
            "       | Downloading package abc to /root/nltk_data...\n",
            "       |   Unzipping corpora/abc.zip.\n",
            "       | Downloading package brown to /root/nltk_data...\n",
            "       |   Unzipping corpora/brown.zip.\n",
            "       | Downloading package chat80 to /root/nltk_data...\n",
            "       |   Unzipping corpora/chat80.zip.\n",
            "       | Downloading package cmudict to /root/nltk_data...\n",
            "       |   Unzipping corpora/cmudict.zip.\n",
            "       | Downloading package conll2000 to /root/nltk_data...\n",
            "       |   Unzipping corpora/conll2000.zip.\n",
            "       | Downloading package conll2002 to /root/nltk_data...\n",
            "       |   Unzipping corpora/conll2002.zip.\n",
            "       | Downloading package dependency_treebank to /root/nltk_data...\n",
            "       |   Unzipping corpora/dependency_treebank.zip.\n",
            "       | Downloading package genesis to /root/nltk_data...\n",
            "       |   Unzipping corpora/genesis.zip.\n",
            "       | Downloading package gutenberg to /root/nltk_data...\n",
            "       |   Unzipping corpora/gutenberg.zip.\n",
            "       | Downloading package ieer to /root/nltk_data...\n",
            "       |   Unzipping corpora/ieer.zip.\n",
            "       | Downloading package inaugural to /root/nltk_data...\n",
            "       |   Unzipping corpora/inaugural.zip.\n",
            "       | Downloading package movie_reviews to /root/nltk_data...\n",
            "       |   Unzipping corpora/movie_reviews.zip.\n",
            "       | Downloading package nps_chat to /root/nltk_data...\n",
            "       |   Unzipping corpora/nps_chat.zip.\n",
            "       | Downloading package names to /root/nltk_data...\n",
            "       |   Unzipping corpora/names.zip.\n",
            "       | Downloading package ppattach to /root/nltk_data...\n",
            "       |   Unzipping corpora/ppattach.zip.\n",
            "       | Downloading package reuters to /root/nltk_data...\n",
            "       | Downloading package senseval to /root/nltk_data...\n",
            "       |   Unzipping corpora/senseval.zip.\n",
            "       | Downloading package state_union to /root/nltk_data...\n",
            "       |   Unzipping corpora/state_union.zip.\n",
            "       | Downloading package stopwords to /root/nltk_data...\n",
            "       |   Unzipping corpora/stopwords.zip.\n",
            "       | Downloading package swadesh to /root/nltk_data...\n",
            "       |   Unzipping corpora/swadesh.zip.\n",
            "       | Downloading package timit to /root/nltk_data...\n",
            "       |   Unzipping corpora/timit.zip.\n",
            "       | Downloading package treebank to /root/nltk_data...\n",
            "       |   Unzipping corpora/treebank.zip.\n",
            "       | Downloading package toolbox to /root/nltk_data...\n",
            "       |   Unzipping corpora/toolbox.zip.\n",
            "       | Downloading package udhr to /root/nltk_data...\n",
            "       |   Unzipping corpora/udhr.zip.\n",
            "       | Downloading package udhr2 to /root/nltk_data...\n",
            "       |   Unzipping corpora/udhr2.zip.\n",
            "       | Downloading package unicode_samples to /root/nltk_data...\n",
            "       |   Unzipping corpora/unicode_samples.zip.\n",
            "       | Downloading package webtext to /root/nltk_data...\n",
            "       |   Unzipping corpora/webtext.zip.\n",
            "       | Downloading package wordnet to /root/nltk_data...\n",
            "       | Downloading package wordnet_ic to /root/nltk_data...\n",
            "       |   Unzipping corpora/wordnet_ic.zip.\n",
            "       | Downloading package words to /root/nltk_data...\n",
            "       |   Unzipping corpora/words.zip.\n",
            "       | Downloading package maxent_treebank_pos_tagger to\n",
            "       |     /root/nltk_data...\n",
            "       |   Unzipping taggers/maxent_treebank_pos_tagger.zip.\n",
            "       | Downloading package maxent_ne_chunker to /root/nltk_data...\n",
            "       |   Unzipping chunkers/maxent_ne_chunker.zip.\n",
            "       | Downloading package universal_tagset to /root/nltk_data...\n",
            "       |   Unzipping taggers/universal_tagset.zip.\n",
            "       | Downloading package punkt to /root/nltk_data...\n",
            "       |   Unzipping tokenizers/punkt.zip.\n",
            "       | Downloading package book_grammars to /root/nltk_data...\n",
            "       |   Unzipping grammars/book_grammars.zip.\n",
            "       | Downloading package city_database to /root/nltk_data...\n",
            "       |   Unzipping corpora/city_database.zip.\n",
            "       | Downloading package tagsets to /root/nltk_data...\n",
            "       |   Unzipping help/tagsets.zip.\n",
            "       | Downloading package panlex_swadesh to /root/nltk_data...\n",
            "       | Downloading package averaged_perceptron_tagger to\n",
            "       |     /root/nltk_data...\n",
            "       |   Unzipping taggers/averaged_perceptron_tagger.zip.\n",
            "       | \n",
            "     Done downloading collection book\n"
          ]
        },
        {
          "name": "stdout",
          "output_type": "stream",
          "text": [
            "\n",
            "---------------------------------------------------------------------------\n",
            "    d) Download   l) List    u) Update   c) Config   h) Help   q) Quit\n",
            "---------------------------------------------------------------------------\n",
            "Downloader> q\n"
          ]
        }
      ],
      "source": [
        "import numpy as np\n",
        "import pandas as pd\n",
        "import re\n",
        "import nltk\n",
        "nltk.download()\n",
        "import seaborn as sns\n",
        "import matplotlib.pyplot as plt\n",
        "from matplotlib import style\n",
        "style.use('ggplot')\n",
        "from nltk.tokenize import word_tokenize\n",
        "from nltk.stem import PorterStemmer\n",
        "from nltk.corpus import stopwords\n",
        "stop_words = set(stopwords.words('english'))\n",
        "from wordcloud import WordCloud\n",
        "from sklearn.feature_extraction.text import CountVectorizer, TfidfTransformer\n",
        "from sklearn.model_selection import train_test_split\n",
        "from sklearn.linear_model import LogisticRegression\n",
        "from sklearn.metrics import accuracy_score, classification_report, confusion_matrix, ConfusionMatrixDisplay\n",
        "from nltk.sentiment.vader import SentimentIntensityAnalyzer"
      ],
      "id": "826191bd"
    },
    {
      "cell_type": "markdown",
      "metadata": {
        "id": "b7576cf9"
      },
      "source": [
        "##Importing Tweepy API for pulling the data"
      ],
      "id": "b7576cf9"
    },
    {
      "cell_type": "markdown",
      "metadata": {
        "id": "ec4d4691"
      },
      "source": [
        "Giving crediantials required to connect the twitter account"
      ],
      "id": "ec4d4691"
    },
    {
      "cell_type": "code",
      "execution_count": 3,
      "metadata": {
        "id": "f1b0700f"
      },
      "outputs": [],
      "source": [
        "#twitter tokens\n",
        "api_key = '29tMzoQLxrFo6RV5IDu3sAhFz'\n",
        "api_key_secret = 'NWdWet690Y8aErS9LLrMcl1wZU2T1Q2KbgXYeeydiGR1nYScOB'\n",
        "access_token = '1650530047776772097-68LyQE07QEEqATeHZoV4hQQHnhZLLK'\n",
        "access_token_secret = 'w2np1IDOLvgkBYNVecW4uSQDwJ2aHkkpKO3HiEcMsKgLw'"
      ],
      "id": "f1b0700f"
    },
    {
      "cell_type": "markdown",
      "source": [
        "In the below, code I'm commenting the csv conversion part because my tweets are already crapped , inorder to avoid the duplicating conflict I'm commenting that code. "
      ],
      "metadata": {
        "id": "EcmavuM4bNYl"
      },
      "id": "EcmavuM4bNYl"
    },
    {
      "cell_type": "code",
      "source": [
        "import tweepy\n",
        "import configparser\n",
        "import pandas as pd\n",
        "\n",
        "# read configs\n",
        "config = configparser.ConfigParser()\n",
        "config.read('config.ini')\n",
        "\n",
        "# authentication\n",
        "auth = tweepy.OAuthHandler(api_key, api_key_secret)\n",
        "auth.set_access_token(access_token, access_token_secret)\n",
        "\n",
        "api = tweepy.API(auth)\n",
        "\n",
        "public_tweets = api.home_timeline()\n",
        "\n",
        "# create dataframe\n",
        "columns = [['Text', 'User', 'Date', 'Time']]\n",
        "data = []\n",
        "for tweet in public_tweets:\n",
        "    data.append([tweet.text, tweet.user.screen_name, tweet.created_at.date(), tweet.created_at.time()])\n",
        "\n",
        "df = pd.DataFrame(data, columns=columns)\n",
        "\n",
        "#df.to_csv('UMassDataset_final.csv')   #UMassDataset_final.csv"
      ],
      "metadata": {
        "id": "8u458TF0XtEp"
      },
      "id": "8u458TF0XtEp",
      "execution_count": 4,
      "outputs": []
    },
    {
      "cell_type": "markdown",
      "source": [
        "## Pre-processsing"
      ],
      "metadata": {
        "id": "h7LSMoREcRfI"
      },
      "id": "h7LSMoREcRfI"
    },
    {
      "cell_type": "code",
      "execution_count": 6,
      "metadata": {
        "id": "f4521d67"
      },
      "outputs": [],
      "source": [
        "df = pd.read_csv(\"/content/UMassDataset_final.csv\")"
      ],
      "id": "f4521d67"
    },
    {
      "cell_type": "code",
      "execution_count": 7,
      "metadata": {
        "colab": {
          "base_uri": "https://localhost:8080/"
        },
        "id": "d8a5f0e8",
        "outputId": "53ac41f4-9968-468b-9e88-a21e1b1c4ba9"
      },
      "outputs": [
        {
          "output_type": "execute_result",
          "data": {
            "text/plain": [
              "Index(['Text', 'User', 'Date', 'Time'], dtype='object')"
            ]
          },
          "metadata": {},
          "execution_count": 7
        }
      ],
      "source": [
        "df.columns"
      ],
      "id": "d8a5f0e8"
    },
    {
      "cell_type": "code",
      "execution_count": 8,
      "metadata": {
        "colab": {
          "base_uri": "https://localhost:8080/"
        },
        "id": "f462eb72",
        "outputId": "4207184f-e010-4c06-a89e-06c178610ec9",
        "scrolled": true
      },
      "outputs": [
        {
          "output_type": "execute_result",
          "data": {
            "text/plain": [
              "657     The #A10WTEN Championship bracket is set...🎾\\n...\n",
              "1606    🗓 1 day left until #UMassGives! Donate during ...\n",
              "2562    In case you haven't heard, UMass Rowing is hav...\n",
              "1697    Join our Flagship Summer Bootcamp and learn th...\n",
              "1419    BOOM! #RedSox Christian Arroyo blasts his 1st ...\n",
              "1496    Loved hearing these 2 guys together in the bro...\n",
              "2751    Vladdy singles in a pair to cut #Redsox lead t...\n",
              "135     RT @UMassFootball: Spring Game Vibes 💯\\n\\n#Fla...\n",
              "2722    No reason Houck should have been out there for...\n",
              "2036    Connor LONG DONG WONG has been very fun to wat...\n",
              "51      Our starting lineup 🆚 Quinnipiac!\\n\\nSkagerlin...\n",
              "1521    Today’s #RedSox lineup vs. TOR: Verdugo RF, Tu...\n",
              "2080    #RedSox I’ve been beating the Wong drum all of...\n",
              "1099    It's Day Two of #UMassGives—and your gift to t...\n",
              "572     The Bobcats even the score on a RBI single\\n\\n...\n",
              "2213    RT @coachFMartin: Hey #Umass we will build our...\n",
              "1258                     ONG HE SHIT ON THAT BALL #RedSox\n",
              "2439    UMass Women's Lacrosse supporters, Head Coach ...\n",
              "1755    RT @UMassSoftball: Olivia Packard's first care...\n",
              "1749    RT @UMassMBB: 𝒮𝒾𝑔𝓃𝑒𝒹 🖊\\n\\nHelp us officially w...\n",
              "Name: Text, dtype: object"
            ]
          },
          "metadata": {},
          "execution_count": 8
        }
      ],
      "source": [
        "df['Text'].sample(20)"
      ],
      "id": "f462eb72"
    },
    {
      "cell_type": "markdown",
      "source": [
        "We can see that in the above text, there are emoji's and tags. We need to clean the data."
      ],
      "metadata": {
        "id": "l631F0CYcYqn"
      },
      "id": "l631F0CYcYqn"
    },
    {
      "cell_type": "code",
      "execution_count": 9,
      "metadata": {
        "colab": {
          "base_uri": "https://localhost:8080/",
          "height": 419
        },
        "id": "0f308145",
        "outputId": "d9dfde3d-5685-4868-d0e0-917579244d06",
        "scrolled": true
      },
      "outputs": [
        {
          "output_type": "execute_result",
          "data": {
            "text/plain": [
              "                                                   Text            User  \\\n",
              "0     RT @UMassAthletics: Congrats to our UMass Stud...   UMassBaseball   \n",
              "1     On #Saturday Welcome #Aboard The #Flagship #Am...     TheCoachNat   \n",
              "2     (Today’s #RedSox Bullpen Report)\\n(5/2/23)\\n\\n...   UMassBaseball   \n",
              "3     Please consider making a donation TODAY to sup...     ChrisPTucci   \n",
              "4     We appreciate our Isenberg community🫶A huge sh...          ac_sbe   \n",
              "...                                                 ...             ...   \n",
              "2883                                                NaN      hatcrawler   \n",
              "2884                                                NaN           SoxNH   \n",
              "2885                                                NaN       Kaceyla73   \n",
              "2886                                                NaN   TrueSophomore   \n",
              "2887                                                NaN  UMassMDRecruit   \n",
              "\n",
              "            Date      Time  \n",
              "0     2023-05-03  20:48:23  \n",
              "1     2023-05-03  20:55:25  \n",
              "2     2023-05-03  20:51:29  \n",
              "3     2023-05-03  20:47:41  \n",
              "4     2023-05-03  20:46:10  \n",
              "...          ...       ...  \n",
              "2883  2023-05-03  11:04:06  \n",
              "2884  2023-05-03  04:05:28  \n",
              "2885  2023-05-03  00:54:31  \n",
              "2886  2023-05-02  23:11:15  \n",
              "2887  2023-04-28  07:23:42  \n",
              "\n",
              "[2888 rows x 4 columns]"
            ],
            "text/html": [
              "\n",
              "  <div id=\"df-040631eb-ea75-4f58-bc31-33aac3a3c68d\">\n",
              "    <div class=\"colab-df-container\">\n",
              "      <div>\n",
              "<style scoped>\n",
              "    .dataframe tbody tr th:only-of-type {\n",
              "        vertical-align: middle;\n",
              "    }\n",
              "\n",
              "    .dataframe tbody tr th {\n",
              "        vertical-align: top;\n",
              "    }\n",
              "\n",
              "    .dataframe thead th {\n",
              "        text-align: right;\n",
              "    }\n",
              "</style>\n",
              "<table border=\"1\" class=\"dataframe\">\n",
              "  <thead>\n",
              "    <tr style=\"text-align: right;\">\n",
              "      <th></th>\n",
              "      <th>Text</th>\n",
              "      <th>User</th>\n",
              "      <th>Date</th>\n",
              "      <th>Time</th>\n",
              "    </tr>\n",
              "  </thead>\n",
              "  <tbody>\n",
              "    <tr>\n",
              "      <th>0</th>\n",
              "      <td>RT @UMassAthletics: Congrats to our UMass Stud...</td>\n",
              "      <td>UMassBaseball</td>\n",
              "      <td>2023-05-03</td>\n",
              "      <td>20:48:23</td>\n",
              "    </tr>\n",
              "    <tr>\n",
              "      <th>1</th>\n",
              "      <td>On #Saturday Welcome #Aboard The #Flagship #Am...</td>\n",
              "      <td>TheCoachNat</td>\n",
              "      <td>2023-05-03</td>\n",
              "      <td>20:55:25</td>\n",
              "    </tr>\n",
              "    <tr>\n",
              "      <th>2</th>\n",
              "      <td>(Today’s #RedSox Bullpen Report)\\n(5/2/23)\\n\\n...</td>\n",
              "      <td>UMassBaseball</td>\n",
              "      <td>2023-05-03</td>\n",
              "      <td>20:51:29</td>\n",
              "    </tr>\n",
              "    <tr>\n",
              "      <th>3</th>\n",
              "      <td>Please consider making a donation TODAY to sup...</td>\n",
              "      <td>ChrisPTucci</td>\n",
              "      <td>2023-05-03</td>\n",
              "      <td>20:47:41</td>\n",
              "    </tr>\n",
              "    <tr>\n",
              "      <th>4</th>\n",
              "      <td>We appreciate our Isenberg community🫶A huge sh...</td>\n",
              "      <td>ac_sbe</td>\n",
              "      <td>2023-05-03</td>\n",
              "      <td>20:46:10</td>\n",
              "    </tr>\n",
              "    <tr>\n",
              "      <th>...</th>\n",
              "      <td>...</td>\n",
              "      <td>...</td>\n",
              "      <td>...</td>\n",
              "      <td>...</td>\n",
              "    </tr>\n",
              "    <tr>\n",
              "      <th>2883</th>\n",
              "      <td>NaN</td>\n",
              "      <td>hatcrawler</td>\n",
              "      <td>2023-05-03</td>\n",
              "      <td>11:04:06</td>\n",
              "    </tr>\n",
              "    <tr>\n",
              "      <th>2884</th>\n",
              "      <td>NaN</td>\n",
              "      <td>SoxNH</td>\n",
              "      <td>2023-05-03</td>\n",
              "      <td>04:05:28</td>\n",
              "    </tr>\n",
              "    <tr>\n",
              "      <th>2885</th>\n",
              "      <td>NaN</td>\n",
              "      <td>Kaceyla73</td>\n",
              "      <td>2023-05-03</td>\n",
              "      <td>00:54:31</td>\n",
              "    </tr>\n",
              "    <tr>\n",
              "      <th>2886</th>\n",
              "      <td>NaN</td>\n",
              "      <td>TrueSophomore</td>\n",
              "      <td>2023-05-02</td>\n",
              "      <td>23:11:15</td>\n",
              "    </tr>\n",
              "    <tr>\n",
              "      <th>2887</th>\n",
              "      <td>NaN</td>\n",
              "      <td>UMassMDRecruit</td>\n",
              "      <td>2023-04-28</td>\n",
              "      <td>07:23:42</td>\n",
              "    </tr>\n",
              "  </tbody>\n",
              "</table>\n",
              "<p>2888 rows × 4 columns</p>\n",
              "</div>\n",
              "      <button class=\"colab-df-convert\" onclick=\"convertToInteractive('df-040631eb-ea75-4f58-bc31-33aac3a3c68d')\"\n",
              "              title=\"Convert this dataframe to an interactive table.\"\n",
              "              style=\"display:none;\">\n",
              "        \n",
              "  <svg xmlns=\"http://www.w3.org/2000/svg\" height=\"24px\"viewBox=\"0 0 24 24\"\n",
              "       width=\"24px\">\n",
              "    <path d=\"M0 0h24v24H0V0z\" fill=\"none\"/>\n",
              "    <path d=\"M18.56 5.44l.94 2.06.94-2.06 2.06-.94-2.06-.94-.94-2.06-.94 2.06-2.06.94zm-11 1L8.5 8.5l.94-2.06 2.06-.94-2.06-.94L8.5 2.5l-.94 2.06-2.06.94zm10 10l.94 2.06.94-2.06 2.06-.94-2.06-.94-.94-2.06-.94 2.06-2.06.94z\"/><path d=\"M17.41 7.96l-1.37-1.37c-.4-.4-.92-.59-1.43-.59-.52 0-1.04.2-1.43.59L10.3 9.45l-7.72 7.72c-.78.78-.78 2.05 0 2.83L4 21.41c.39.39.9.59 1.41.59.51 0 1.02-.2 1.41-.59l7.78-7.78 2.81-2.81c.8-.78.8-2.07 0-2.86zM5.41 20L4 18.59l7.72-7.72 1.47 1.35L5.41 20z\"/>\n",
              "  </svg>\n",
              "      </button>\n",
              "      \n",
              "  <style>\n",
              "    .colab-df-container {\n",
              "      display:flex;\n",
              "      flex-wrap:wrap;\n",
              "      gap: 12px;\n",
              "    }\n",
              "\n",
              "    .colab-df-convert {\n",
              "      background-color: #E8F0FE;\n",
              "      border: none;\n",
              "      border-radius: 50%;\n",
              "      cursor: pointer;\n",
              "      display: none;\n",
              "      fill: #1967D2;\n",
              "      height: 32px;\n",
              "      padding: 0 0 0 0;\n",
              "      width: 32px;\n",
              "    }\n",
              "\n",
              "    .colab-df-convert:hover {\n",
              "      background-color: #E2EBFA;\n",
              "      box-shadow: 0px 1px 2px rgba(60, 64, 67, 0.3), 0px 1px 3px 1px rgba(60, 64, 67, 0.15);\n",
              "      fill: #174EA6;\n",
              "    }\n",
              "\n",
              "    [theme=dark] .colab-df-convert {\n",
              "      background-color: #3B4455;\n",
              "      fill: #D2E3FC;\n",
              "    }\n",
              "\n",
              "    [theme=dark] .colab-df-convert:hover {\n",
              "      background-color: #434B5C;\n",
              "      box-shadow: 0px 1px 3px 1px rgba(0, 0, 0, 0.15);\n",
              "      filter: drop-shadow(0px 1px 2px rgba(0, 0, 0, 0.3));\n",
              "      fill: #FFFFFF;\n",
              "    }\n",
              "  </style>\n",
              "\n",
              "      <script>\n",
              "        const buttonEl =\n",
              "          document.querySelector('#df-040631eb-ea75-4f58-bc31-33aac3a3c68d button.colab-df-convert');\n",
              "        buttonEl.style.display =\n",
              "          google.colab.kernel.accessAllowed ? 'block' : 'none';\n",
              "\n",
              "        async function convertToInteractive(key) {\n",
              "          const element = document.querySelector('#df-040631eb-ea75-4f58-bc31-33aac3a3c68d');\n",
              "          const dataTable =\n",
              "            await google.colab.kernel.invokeFunction('convertToInteractive',\n",
              "                                                     [key], {});\n",
              "          if (!dataTable) return;\n",
              "\n",
              "          const docLinkHtml = 'Like what you see? Visit the ' +\n",
              "            '<a target=\"_blank\" href=https://colab.research.google.com/notebooks/data_table.ipynb>data table notebook</a>'\n",
              "            + ' to learn more about interactive tables.';\n",
              "          element.innerHTML = '';\n",
              "          dataTable['output_type'] = 'display_data';\n",
              "          await google.colab.output.renderOutput(dataTable, element);\n",
              "          const docLink = document.createElement('div');\n",
              "          docLink.innerHTML = docLinkHtml;\n",
              "          element.appendChild(docLink);\n",
              "        }\n",
              "      </script>\n",
              "    </div>\n",
              "  </div>\n",
              "  "
            ]
          },
          "metadata": {},
          "execution_count": 9
        }
      ],
      "source": [
        "#Dropping the duplicates\n",
        "Text = set(df['Text'].to_list())\n",
        "df['Text']= pd.Series(list(Text))\n",
        "df"
      ],
      "id": "0f308145"
    },
    {
      "cell_type": "markdown",
      "metadata": {
        "id": "87983c9a"
      },
      "source": [
        "Checking whether data have dupicates or not.\n",
        "\n",
        "If duplicates are present, dropping them is the best method becasue enough data is present to train the model. "
      ],
      "id": "87983c9a"
    },
    {
      "cell_type": "code",
      "execution_count": 10,
      "metadata": {
        "colab": {
          "base_uri": "https://localhost:8080/"
        },
        "id": "5767d553",
        "outputId": "0dfc8ad3-af29-4d5b-d146-02a655a743c9",
        "scrolled": true
      },
      "outputs": [
        {
          "output_type": "execute_result",
          "data": {
            "text/plain": [
              "Text    808\n",
              "User      0\n",
              "Date      0\n",
              "Time      0\n",
              "dtype: int64"
            ]
          },
          "metadata": {},
          "execution_count": 10
        }
      ],
      "source": [
        "df.isnull().sum() #checking for null values."
      ],
      "id": "5767d553"
    },
    {
      "cell_type": "code",
      "execution_count": 11,
      "metadata": {
        "id": "01aa3977",
        "scrolled": true
      },
      "outputs": [],
      "source": [
        "df.dropna(inplace = True)"
      ],
      "id": "01aa3977"
    },
    {
      "cell_type": "code",
      "execution_count": 12,
      "metadata": {
        "colab": {
          "base_uri": "https://localhost:8080/"
        },
        "id": "4ea5ab13",
        "outputId": "1fba73fe-eb11-4a8b-e88a-52117b78d9e1"
      },
      "outputs": [
        {
          "output_type": "execute_result",
          "data": {
            "text/plain": [
              "(2080, 4)"
            ]
          },
          "metadata": {},
          "execution_count": 12
        }
      ],
      "source": [
        "df.shape"
      ],
      "id": "4ea5ab13"
    },
    {
      "cell_type": "code",
      "execution_count": 13,
      "metadata": {
        "colab": {
          "base_uri": "https://localhost:8080/"
        },
        "id": "9a253bd5",
        "outputId": "08826d24-3421-4f80-adf6-e2fddae4c3be",
        "scrolled": true
      },
      "outputs": [
        {
          "output_type": "execute_result",
          "data": {
            "text/plain": [
              "Text    0\n",
              "User    0\n",
              "Date    0\n",
              "Time    0\n",
              "dtype: int64"
            ]
          },
          "metadata": {},
          "execution_count": 13
        }
      ],
      "source": [
        "df.isnull().sum() #duplicates are dropped. "
      ],
      "id": "9a253bd5"
    },
    {
      "cell_type": "code",
      "execution_count": 14,
      "metadata": {
        "colab": {
          "base_uri": "https://localhost:8080/"
        },
        "id": "6303f85d",
        "outputId": "d1ce68e2-ea9c-46d3-b249-318a3974fcc4"
      },
      "outputs": [
        {
          "output_type": "stream",
          "name": "stdout",
          "text": [
            "Count of null values: 0\n"
          ]
        }
      ],
      "source": [
        "print('Count of null values', end = ': ')\n",
        "print(df[\"Text\"].isnull().sum())"
      ],
      "id": "6303f85d"
    },
    {
      "cell_type": "markdown",
      "metadata": {
        "id": "9fd8953d"
      },
      "source": [
        "Dataset has no duplicates and no null's in any column.\n",
        "\n",
        "Now, we need to clean the text column in the dataframe. "
      ],
      "id": "9fd8953d"
    },
    {
      "cell_type": "code",
      "execution_count": 15,
      "metadata": {
        "id": "87278c31"
      },
      "outputs": [],
      "source": [
        "#in this, we are removing all the charcter with are not letters using regex. \n",
        "# Coverting the setence into list of tokens.\n",
        "# Then, we are changing the words into its root form. \n",
        "# Now, the data is cleaned, changing again into string using join.\n",
        "#stopwords.words('english')\n",
        "#title = []\n",
        "#for i in range(0, df.shape[0]):\n",
        "#    title_1 = re.sub('[^a-zA-Z]',' ', df.iloc[i,1])\n",
        "#    title_1 = title_1.lower()\n",
        "#    title_1 = title_1.split()\n",
        "#    title_1 = [i for i in title_1 if i not in stopwords.words('english')]\n",
        "#    title_1 = [ps.stem(word) for word in title_1]\n",
        "#    title_1 = ' '.join(title_1)\n",
        "#    title.append(title_1)"
      ],
      "id": "87278c31"
    },
    {
      "cell_type": "markdown",
      "metadata": {
        "id": "428346b1"
      },
      "source": [
        "Data has no null values but the extracted data from twitter is not orgainised. It has tags, hashtags, links, emoji's etc. \n",
        "\n",
        "Before building a model, cleaning this data has to be cleaned.\n",
        "\n",
        "Let's define a function for that."
      ],
      "id": "428346b1"
    },
    {
      "cell_type": "code",
      "execution_count": 16,
      "metadata": {
        "id": "85f2ea7b"
      },
      "outputs": [],
      "source": [
        "def data_processing(text):\n",
        "    \n",
        "    #converting all the data into lower case\n",
        "    text = text.lower()\n",
        "\n",
        "    #Removing tags\n",
        "    text = re.sub(r\"\\@w+|\\#\",'',text)\n",
        "    \n",
        "    #Removing all the links\n",
        "    text = re.sub(r\"https\\S+|www\\S+|https\\S+\",'', text, flags = re.MULTILINE)   #it will search for patterns like https or www. or http\\\\www\n",
        "    \n",
        "    #Removing all other other than characters.\n",
        "    text = re.sub(r'{^\\w\\s}','',text)\n",
        "    text = re.sub('[^a-zA-Z]',' ', text)\n",
        "    \n",
        "    #Tokenizing inorder to remove all the extra spacing\n",
        "    text_tokens = word_tokenize(text)\n",
        "    \n",
        "    #Stop words are words which doesn't contribute in building meaning of the sentence. \n",
        "    #Before vectorizing removing these will help in building vector with required words.\n",
        "    stop_words = set(stopwords.words('english'))\n",
        "    filtered_text = [w for w in text_tokens if not w in stop_words]\n",
        "    \n",
        "    #Joining all back\n",
        "    return ' '.join(filtered_text)"
      ],
      "id": "85f2ea7b"
    },
    {
      "cell_type": "code",
      "execution_count": 17,
      "metadata": {
        "id": "4b56c416"
      },
      "outputs": [],
      "source": [
        "#Calling the function and passing Text coulmn from dataframe, which is the feature column for the model.\n",
        "df['Text'] = df['Text'].apply(data_processing)"
      ],
      "id": "4b56c416"
    },
    {
      "cell_type": "code",
      "execution_count": 18,
      "metadata": {
        "colab": {
          "base_uri": "https://localhost:8080/"
        },
        "id": "d035dac4",
        "outputId": "86a202e6-e3b9-4b66-eac4-e082b4912b4d"
      },
      "outputs": [
        {
          "output_type": "stream",
          "name": "stdout",
          "text": [
            "0       rt umassathletics congrats umass student athle...\n",
            "1       saturday welcome aboard flagship amsterdam ope...\n",
            "2       today redsox bullpen report available pitch ke...\n",
            "3       please consider making donation today support ...\n",
            "4       appreciate isenberg community huge shoutout um...\n",
            "                              ...                        \n",
            "2075    third time predictable outcome tanner houck re...\n",
            "2076    maclean hits triple sac fly tichy gives us ano...\n",
            "2077                     mikey jensen takes hill flagship\n",
            "2078    rt umasslacrosse wlax midfielder year amy more...\n",
            "2079            fun spring made plays sides ball flagship\n",
            "Name: Text, Length: 2080, dtype: object\n"
          ]
        }
      ],
      "source": [
        "#Let's have a look at the cleaned data. \n",
        "print(df['Text'])"
      ],
      "id": "d035dac4"
    },
    {
      "cell_type": "code",
      "execution_count": 19,
      "metadata": {
        "colab": {
          "base_uri": "https://localhost:8080/"
        },
        "id": "1f33ab11",
        "outputId": "8a35ad5d-cd06-4912-b16b-a72547f4bec9"
      },
      "outputs": [
        {
          "output_type": "stream",
          "name": "stdout",
          "text": [
            "Count of null values: 0\n"
          ]
        }
      ],
      "source": [
        "print('Count of null values', end = ': ')\n",
        "print(df[\"Text\"].isnull().sum())"
      ],
      "id": "1f33ab11"
    },
    {
      "cell_type": "code",
      "execution_count": 20,
      "metadata": {
        "colab": {
          "base_uri": "https://localhost:8080/"
        },
        "id": "bf7344c5",
        "outputId": "f06f089e-d39b-4489-e265-71a01ca3e09d"
      },
      "outputs": [
        {
          "output_type": "execute_result",
          "data": {
            "text/plain": [
              "2080"
            ]
          },
          "metadata": {},
          "execution_count": 20
        }
      ],
      "source": [
        "len(df.Text)"
      ],
      "id": "bf7344c5"
    },
    {
      "cell_type": "markdown",
      "source": [
        "## Feature Extraction"
      ],
      "metadata": {
        "id": "OmQ0okJFgHMN"
      },
      "id": "OmQ0okJFgHMN"
    },
    {
      "cell_type": "markdown",
      "metadata": {
        "id": "57fa11af"
      },
      "source": [
        "With the above cleaning data, training of the model will be done.\n",
        "\n",
        "Before defing the model, finding sentiments of each Text has to be done.\n",
        "\n",
        "I've done the sentiment analysis manually for most of the data. \n",
        "\n",
        "Using BERT model for that, we can achieve that.\n",
        "\n",
        "Here's the code for it."
      ],
      "id": "57fa11af"
    },
    {
      "cell_type": "code",
      "execution_count": 21,
      "metadata": {
        "id": "7bc59e40"
      },
      "outputs": [],
      "source": [
        "features = df['Text']\n",
        "X = features"
      ],
      "id": "7bc59e40"
    },
    {
      "cell_type": "code",
      "execution_count": 344,
      "metadata": {
        "id": "f055b36c"
      },
      "outputs": [],
      "source": [
        "#BERT model taken from web. BERT is a pre trained model. We just need to load it and pass the data ito it to get the sentiments.\n",
        "from transformers import AutoTokenizer, AutoModelForSequenceClassification\n",
        "import torch\n",
        "tokenizer = AutoTokenizer.from_pretrained('nlptown/bert-base-multilingual-uncased-sentiment')\n"
      ],
      "id": "f055b36c"
    },
    {
      "cell_type": "code",
      "execution_count": 345,
      "metadata": {
        "id": "fffc9842"
      },
      "outputs": [],
      "source": [
        "model = AutoModelForSequenceClassification.from_pretrained('nlptown/bert-base-multilingual-uncased-sentiment')\n",
        "def sentiment_value(review):\n",
        "    tokens = tokenizer.encode(review, return_tensors='pt')\n",
        "    result = model(tokens)\n",
        "    t=int(torch.argmax(result.logits))+1\n",
        "    if t>3:\n",
        "        return \"1\"\n",
        "    else:\n",
        "        return \"-1\"\n",
        "df['Sentiment_value'] = features.apply(lambda x: sentiment_value(x[:512]))"
      ],
      "id": "fffc9842"
    },
    {
      "cell_type": "code",
      "execution_count": 346,
      "metadata": {
        "id": "sGCluIOfiZvE"
      },
      "outputs": [],
      "source": [
        "#As the data is having most of the postive reviews, I tried to drop some positive reviews to maintain the balance.\n",
        "#rows_to_drop = df[df['Sentiment_value'] == 1].sample(n=200, random_state=42).index\n",
        "#df = df.drop(rows_to_drop)"
      ],
      "id": "sGCluIOfiZvE"
    },
    {
      "cell_type": "code",
      "execution_count": 23,
      "metadata": {
        "colab": {
          "base_uri": "https://localhost:8080/"
        },
        "id": "pqv01X4rCVy3",
        "outputId": "91b900b4-2856-40eb-8af4-ee1619bb0b4f"
      },
      "outputs": [
        {
          "output_type": "execute_result",
          "data": {
            "text/plain": [
              "0"
            ]
          },
          "metadata": {},
          "execution_count": 23
        }
      ],
      "source": [
        "df['Sentiment_value'].isnull().sum()"
      ],
      "id": "pqv01X4rCVy3"
    },
    {
      "cell_type": "code",
      "execution_count": 24,
      "metadata": {
        "colab": {
          "base_uri": "https://localhost:8080/"
        },
        "id": "Ay-UpFB7CfF5",
        "outputId": "5e9330f0-aa76-4d1e-82a1-c4db9c47bd29"
      },
      "outputs": [
        {
          "output_type": "execute_result",
          "data": {
            "text/plain": [
              " 1    1794\n",
              "-1     286\n",
              "Name: Sentiment_value, dtype: int64"
            ]
          },
          "metadata": {},
          "execution_count": 24
        }
      ],
      "source": [
        "df['Sentiment_value'].value_counts()"
      ],
      "id": "Ay-UpFB7CfF5"
    },
    {
      "cell_type": "code",
      "execution_count": 25,
      "metadata": {
        "colab": {
          "base_uri": "https://localhost:8080/"
        },
        "id": "Wm3c7nb_ZBhZ",
        "outputId": "1756e800-24b1-4ae4-e783-1a88673c470f"
      },
      "outputs": [
        {
          "output_type": "execute_result",
          "data": {
            "text/plain": [
              "pandas.core.series.Series"
            ]
          },
          "metadata": {},
          "execution_count": 25
        }
      ],
      "source": [
        "type(df['Sentiment_value'])"
      ],
      "id": "Wm3c7nb_ZBhZ"
    },
    {
      "cell_type": "code",
      "execution_count": 26,
      "metadata": {
        "colab": {
          "base_uri": "https://localhost:8080/",
          "height": 486
        },
        "id": "Gui2YgJXChUP",
        "outputId": "9f8c08c1-7e62-47c6-aca5-292f08d00fb7"
      },
      "outputs": [
        {
          "output_type": "execute_result",
          "data": {
            "text/plain": [
              "<Axes: xlabel='Sentiment_value', ylabel='count'>"
            ]
          },
          "metadata": {},
          "execution_count": 26
        },
        {
          "output_type": "display_data",
          "data": {
            "text/plain": [
              "<Figure size 500x500 with 1 Axes>"
            ],
            "image/png": "[encoded data removed]"
          },
          "metadata": {}
        }
      ],
      "source": [
        "fig = plt.figure(figsize=(5,5))\n",
        "sns.countplot(x= 'Sentiment_value', data = df)"
      ],
      "id": "Gui2YgJXChUP"
    },
    {
      "cell_type": "code",
      "execution_count": 351,
      "metadata": {
        "colab": {
          "base_uri": "https://localhost:8080/",
          "height": 35
        },
        "id": "qKd4Vjg8Cj4m",
        "outputId": "6ad09e43-10cc-4ab8-a38e-55e997095740"
      },
      "outputs": [
        {
          "output_type": "execute_result",
          "data": {
            "text/plain": [
              "'-1'"
            ],
            "application/vnd.google.colaboratory.intrinsic+json": {
              "type": "string"
            }
          },
          "metadata": {},
          "execution_count": 351
        }
      ],
      "source": [
        "#Checking for some data.\n",
        "test = \"Not a great campus\"\n",
        "test_output = sentiment_value(test)\n",
        "test_output"
      ],
      "id": "qKd4Vjg8Cj4m"
    },
    {
      "cell_type": "code",
      "execution_count": 352,
      "metadata": {
        "colab": {
          "base_uri": "https://localhost:8080/",
          "height": 35
        },
        "id": "ajtcukE0C-SJ",
        "outputId": "8e06b670-6b9b-4597-e1e4-94ada157c18d"
      },
      "outputs": [
        {
          "output_type": "execute_result",
          "data": {
            "text/plain": [
              "'1'"
            ],
            "application/vnd.google.colaboratory.intrinsic+json": {
              "type": "string"
            }
          },
          "metadata": {},
          "execution_count": 352
        }
      ],
      "source": [
        "test1 = \"Campus provides everything for everyone \"\n",
        "test_output1 = sentiment_value(test1)\n",
        "test_output1"
      ],
      "id": "ajtcukE0C-SJ"
    },
    {
      "cell_type": "code",
      "execution_count": 27,
      "metadata": {
        "id": "9r5R3DKtDA3X"
      },
      "outputs": [],
      "source": [
        "y = df['Sentiment_value']"
      ],
      "id": "9r5R3DKtDA3X"
    },
    {
      "cell_type": "markdown",
      "source": [
        "Using Bag of words and TFIDF for feature extraction."
      ],
      "metadata": {
        "id": "hg8mz4sYj4An"
      },
      "id": "hg8mz4sYj4An"
    },
    {
      "cell_type": "code",
      "source": [
        "#using tokenizer to remove all the extra spacing and then makinh each sentence of equal length using padding\n",
        "from tensorflow.keras.preprocessing.text import Tokenizer\n",
        "from tensorflow.keras.preprocessing.sequence import pad_sequences\n",
        "tokenizer = Tokenizer()\n",
        "tokenizer = Tokenizer()\n",
        "tokenizer.fit_on_texts(df['Text'])\n",
        "sequences = tokenizer.texts_to_sequences(df['Text'])"
      ],
      "metadata": {
        "id": "zsjGq7wnkwW5"
      },
      "id": "zsjGq7wnkwW5",
      "execution_count": 28,
      "outputs": []
    },
    {
      "cell_type": "code",
      "source": [
        "maxlen = max(len(x) for x in sequences)\n",
        "X = pad_sequences(sequences, maxlen=maxlen)\n",
        "X = np.asarray(X).astype(np.float32)\n",
        "y = np.asarray(df[\"Sentiment_value\"]).astype(np.float32)"
      ],
      "metadata": {
        "id": "e2d4sRJ0k1_F"
      },
      "id": "e2d4sRJ0k1_F",
      "execution_count": 29,
      "outputs": []
    },
    {
      "cell_type": "code",
      "source": [
        "features = df['Text']\n",
        "X = features"
      ],
      "metadata": {
        "id": "xaHwV1BJ67dD"
      },
      "id": "xaHwV1BJ67dD",
      "execution_count": 30,
      "outputs": []
    },
    {
      "cell_type": "code",
      "execution_count": 31,
      "metadata": {
        "id": "dmf-1z6IDErd"
      },
      "outputs": [],
      "source": [
        "#Bag of words \n",
        "vectorizer = CountVectorizer()\n",
        "X = vectorizer.fit_transform(X)"
      ],
      "id": "dmf-1z6IDErd"
    },
    {
      "cell_type": "code",
      "execution_count": 32,
      "metadata": {
        "id": "RUt3VnVTEUHS"
      },
      "outputs": [],
      "source": [
        "#TF IDF\n",
        "from sklearn.feature_extraction.text import TfidfTransformer\n",
        "\n",
        "tfidf_transformer = TfidfTransformer()\n",
        "\n",
        "#Fitting the mdoel for the data\n",
        "tfidf_transformer.fit(X)\n",
        "\n",
        "#Transforming the data\n",
        "X  = tfidf_transformer.transform(X)\n"
      ],
      "id": "RUt3VnVTEUHS"
    },
    {
      "cell_type": "code",
      "execution_count": 33,
      "metadata": {
        "id": "_u_-PVKKBQ8c"
      },
      "outputs": [],
      "source": [
        "sentiment_data = y"
      ],
      "id": "_u_-PVKKBQ8c"
    },
    {
      "cell_type": "code",
      "execution_count": 34,
      "metadata": {
        "colab": {
          "base_uri": "https://localhost:8080/"
        },
        "id": "wKa8Rq28MZAY",
        "outputId": "3b33e43d-bd59-4059-b4a9-6aee363dcdda"
      },
      "outputs": [
        {
          "output_type": "execute_result",
          "data": {
            "text/plain": [
              "0"
            ]
          },
          "metadata": {},
          "execution_count": 34
        }
      ],
      "source": [
        "df[\"Sentiment_value\"].isnull().sum()"
      ],
      "id": "wKa8Rq28MZAY"
    },
    {
      "cell_type": "code",
      "source": [
        "maxlen = max(len(x) for x in sequences)\n",
        "X = pad_sequences(sequences, maxlen=maxlen)\n",
        "X = np.asarray(X).astype(np.float32)\n",
        "y = np.asarray(df[\"Sentiment_value\"]).astype(np.float32)"
      ],
      "metadata": {
        "id": "7saWC7H-ziC-"
      },
      "id": "7saWC7H-ziC-",
      "execution_count": 35,
      "outputs": []
    },
    {
      "cell_type": "code",
      "execution_count": 36,
      "metadata": {
        "colab": {
          "base_uri": "https://localhost:8080/"
        },
        "id": "SWo7y4dv_esJ",
        "outputId": "4348eb56-c28e-446d-dce5-11f33fe9b287"
      },
      "outputs": [
        {
          "output_type": "execute_result",
          "data": {
            "text/plain": [
              "numpy.ndarray"
            ]
          },
          "metadata": {},
          "execution_count": 36
        }
      ],
      "source": [
        "type(sentiment_data)"
      ],
      "id": "SWo7y4dv_esJ"
    },
    {
      "cell_type": "markdown",
      "source": [
        "## Model Creation"
      ],
      "metadata": {
        "id": "bBMw9tPEl3n8"
      },
      "id": "bBMw9tPEl3n8"
    },
    {
      "cell_type": "code",
      "execution_count": 37,
      "metadata": {
        "id": "8ggLik_LJikx"
      },
      "outputs": [],
      "source": [
        "#splitting the data into train and test datasets\n",
        "X_train, X_test, y_train, y_test = train_test_split(X, sentiment_data, test_size=0.3, random_state=42)"
      ],
      "id": "8ggLik_LJikx"
    },
    {
      "cell_type": "code",
      "execution_count": 38,
      "metadata": {
        "colab": {
          "base_uri": "https://localhost:8080/"
        },
        "id": "FTfPS4h7L4kj",
        "outputId": "8221afa5-732c-4250-bc91-45d1c7491c1a"
      },
      "outputs": [
        {
          "output_type": "execute_result",
          "data": {
            "text/plain": [
              "(1456, 38)"
            ]
          },
          "metadata": {},
          "execution_count": 38
        }
      ],
      "source": [
        "X_train.shape\n"
      ],
      "id": "FTfPS4h7L4kj"
    },
    {
      "cell_type": "code",
      "source": [
        "X_test.shape"
      ],
      "metadata": {
        "colab": {
          "base_uri": "https://localhost:8080/"
        },
        "id": "AFIAza7_Aq0R",
        "outputId": "51490d4f-dc8c-4fbb-945e-1f319b774311"
      },
      "id": "AFIAza7_Aq0R",
      "execution_count": 39,
      "outputs": [
        {
          "output_type": "execute_result",
          "data": {
            "text/plain": [
              "(624, 38)"
            ]
          },
          "metadata": {},
          "execution_count": 39
        }
      ]
    },
    {
      "cell_type": "code",
      "execution_count": 40,
      "metadata": {
        "id": "TjCfjJkrJ6VL"
      },
      "outputs": [],
      "source": [
        "from tensorflow.keras.models import Sequential\n",
        "from tensorflow.keras.layers import Dense, Embedding, LSTM, GRU, Conv1D, MaxPooling1D, GlobalMaxPooling1D, Dropout\n",
        "from tensorflow.keras.preprocessing.text import Tokenizer\n",
        "from tensorflow.keras.preprocessing.sequence import pad_sequences\n",
        "from tensorflow.keras.regularizers import l2\n",
        "from sklearn.model_selection import train_test_split\n",
        "from sklearn.metrics import confusion_matrix\n",
        "import matplotlib.pyplot as plt\n",
        "from tensorflow.keras import regularizers\n",
        "from tensorflow.keras.callbacks import EarlyStopping"
      ],
      "id": "TjCfjJkrJ6VL"
    },
    {
      "cell_type": "code",
      "execution_count": 41,
      "metadata": {
        "id": "a3a7ZKpeLpoq"
      },
      "outputs": [],
      "source": [
        "#increasing the dimensinality of the training dataset.\n",
        "#X_train = np.expand_dims(X_train, -1)\n",
        "#y_train   = np.expand_dims(y_train, -1)\n",
        "#X_train.shape"
      ],
      "id": "a3a7ZKpeLpoq"
    },
    {
      "cell_type": "code",
      "execution_count": 42,
      "metadata": {
        "colab": {
          "base_uri": "https://localhost:8080/"
        },
        "id": "M-87qPJfxWdg",
        "outputId": "aa105710-79ce-4a63-ba9d-f013209e4e2e"
      },
      "outputs": [
        {
          "output_type": "stream",
          "name": "stdout",
          "text": [
            "5184\n"
          ]
        }
      ],
      "source": [
        "size_of_words= len(tokenizer.word_index)+1\n",
        "print(size_of_words)\n",
        "embedding_vect_dim = 32"
      ],
      "id": "M-87qPJfxWdg"
    },
    {
      "cell_type": "code",
      "source": [
        "from tensorflow.keras.models import Sequential\n",
        "from tensorflow.keras.layers import Dense, Embedding, LSTM, GRU, Conv1D, MaxPooling1D, GlobalMaxPooling1D, Dropout\n",
        "from tensorflow.keras.preprocessing.text import Tokenizer\n",
        "from tensorflow.keras.regularizers import l2"
      ],
      "metadata": {
        "id": "OnwWOrqgaR6k"
      },
      "id": "OnwWOrqgaR6k",
      "execution_count": 43,
      "outputs": []
    },
    {
      "cell_type": "code",
      "execution_count": 44,
      "metadata": {
        "id": "6z3hhP1ywLMf"
      },
      "outputs": [],
      "source": [
        "#Creaing a sequential model with Embedding, LSTM, Conv, GRU,, Dense layers in it with appropriate count. \n",
        "#Using maxpooling to reduce dimensionality and using regularization and dropout to avoid overfitting\n",
        "#Using ReLu activation function for the dense layers and sigmoid for the output layer as this is a classification problem.\n",
        "model = Sequential()\n",
        "model.add(Embedding(size_of_words, 64, input_length = maxlen))\n",
        "model.add(LSTM(64,dropout = 0.4, recurrent_dropout = 0.4, return_sequences=True))\n",
        "model.add(Conv1D(64, 7, activation = 'relu'))\n",
        "model.add(MaxPooling1D(6))\n",
        "model.add(Dropout(0.5))\n",
        "model.add(GRU(64, dropout=0.3))\n",
        "model.add(Dropout(0.5))\n",
        "model.add(Dense(64, activation='relu', kernel_regularizer=regularizers.l2(0.01)))\n",
        "model.add(Dropout(0.5))\n",
        "model.add(Dense(1, activation='sigmoid'))\n"
      ],
      "id": "6z3hhP1ywLMf"
    },
    {
      "cell_type": "code",
      "source": [
        "model.summary()"
      ],
      "metadata": {
        "colab": {
          "base_uri": "https://localhost:8080/"
        },
        "id": "zk75dBPYD2BL",
        "outputId": "9099c0a7-3df7-4abf-ee9a-e263cad05821"
      },
      "id": "zk75dBPYD2BL",
      "execution_count": 45,
      "outputs": [
        {
          "output_type": "stream",
          "name": "stdout",
          "text": [
            "Model: \"sequential\"\n",
            "_________________________________________________________________\n",
            " Layer (type)                Output Shape              Param #   \n",
            "=================================================================\n",
            " embedding (Embedding)       (None, 38, 64)            331776    \n",
            "                                                                 \n",
            " lstm (LSTM)                 (None, 38, 64)            33024     \n",
            "                                                                 \n",
            " conv1d (Conv1D)             (None, 32, 64)            28736     \n",
            "                                                                 \n",
            " max_pooling1d (MaxPooling1D  (None, 5, 64)            0         \n",
            " )                                                               \n",
            "                                                                 \n",
            " dropout (Dropout)           (None, 5, 64)             0         \n",
            "                                                                 \n",
            " gru (GRU)                   (None, 64)                24960     \n",
            "                                                                 \n",
            " dropout_1 (Dropout)         (None, 64)                0         \n",
            "                                                                 \n",
            " dense (Dense)               (None, 64)                4160      \n",
            "                                                                 \n",
            " dropout_2 (Dropout)         (None, 64)                0         \n",
            "                                                                 \n",
            " dense_1 (Dense)             (None, 1)                 65        \n",
            "                                                                 \n",
            "=================================================================\n",
            "Total params: 422,721\n",
            "Trainable params: 422,721\n",
            "Non-trainable params: 0\n",
            "_________________________________________________________________\n"
          ]
        }
      ]
    },
    {
      "cell_type": "code",
      "execution_count": 46,
      "metadata": {
        "id": "IBOuzS-KSgzB"
      },
      "outputs": [],
      "source": [
        "# Compile and train\n",
        "model.compile(optimizer='adam', loss='binary_crossentropy', metrics=['accuracy'])\n"
      ],
      "id": "IBOuzS-KSgzB"
    },
    {
      "cell_type": "code",
      "execution_count": 47,
      "metadata": {
        "id": "MpmYUMWEpfn-"
      },
      "outputs": [],
      "source": [
        "#this is used to stop the model when the loss is increasing for 5 consecutives epochs\n",
        "#early_stopping = EarlyStopping(monitor='val_loss', patience=5)"
      ],
      "id": "MpmYUMWEpfn-"
    },
    {
      "cell_type": "code",
      "execution_count": 48,
      "metadata": {
        "colab": {
          "base_uri": "https://localhost:8080/"
        },
        "id": "M9y-h8crSk5x",
        "outputId": "31dc95c3-348d-4811-b0b4-9a49906efff0"
      },
      "outputs": [
        {
          "output_type": "stream",
          "name": "stdout",
          "text": [
            "Epoch 1/30\n",
            "19/19 [==============================] - 10s 155ms/step - loss: 1.2054 - accuracy: 0.8110 - val_loss: 0.9960 - val_accuracy: 0.8973\n",
            "Epoch 2/30\n",
            "19/19 [==============================] - 2s 109ms/step - loss: 1.0508 - accuracy: 0.8634 - val_loss: 0.9453 - val_accuracy: 0.8973\n",
            "Epoch 3/30\n",
            "19/19 [==============================] - 3s 172ms/step - loss: 0.9635 - accuracy: 0.8643 - val_loss: 0.8386 - val_accuracy: 0.8973\n",
            "Epoch 4/30\n",
            "19/19 [==============================] - 3s 162ms/step - loss: 0.8674 - accuracy: 0.8651 - val_loss: 0.7682 - val_accuracy: 0.8973\n",
            "Epoch 5/30\n",
            "19/19 [==============================] - 2s 106ms/step - loss: 0.7636 - accuracy: 0.8634 - val_loss: 0.6544 - val_accuracy: 0.8870\n",
            "Epoch 6/30\n",
            "19/19 [==============================] - 2s 109ms/step - loss: 0.5248 - accuracy: 0.8462 - val_loss: 0.6430 - val_accuracy: 0.7021\n",
            "Epoch 7/30\n",
            "19/19 [==============================] - 2s 113ms/step - loss: -0.0953 - accuracy: 0.8041 - val_loss: 0.5794 - val_accuracy: 0.7842\n",
            "Epoch 8/30\n",
            "19/19 [==============================] - 3s 144ms/step - loss: -1.1857 - accuracy: 0.8385 - val_loss: 0.7780 - val_accuracy: 0.8048\n",
            "Epoch 9/30\n",
            "19/19 [==============================] - 3s 143ms/step - loss: -3.3246 - accuracy: 0.8436 - val_loss: 0.7292 - val_accuracy: 0.7568\n",
            "Epoch 10/30\n",
            "19/19 [==============================] - 2s 111ms/step - loss: -6.0994 - accuracy: 0.8462 - val_loss: 0.9058 - val_accuracy: 0.8185\n",
            "Epoch 11/30\n",
            "19/19 [==============================] - 2s 104ms/step - loss: -9.6913 - accuracy: 0.8540 - val_loss: 0.6791 - val_accuracy: 0.8219\n",
            "Epoch 12/30\n",
            "19/19 [==============================] - 2s 106ms/step - loss: -13.7132 - accuracy: 0.8540 - val_loss: 0.7893 - val_accuracy: 0.7979\n",
            "Epoch 13/30\n",
            "19/19 [==============================] - 2s 110ms/step - loss: -18.1356 - accuracy: 0.8531 - val_loss: 0.1580 - val_accuracy: 0.8459\n",
            "Epoch 14/30\n",
            "19/19 [==============================] - 3s 162ms/step - loss: -22.7331 - accuracy: 0.8574 - val_loss: 2.0135 - val_accuracy: 0.8288\n",
            "Epoch 15/30\n",
            "19/19 [==============================] - 4s 211ms/step - loss: -28.1622 - accuracy: 0.8548 - val_loss: 4.5744 - val_accuracy: 0.7945\n",
            "Epoch 16/30\n",
            "19/19 [==============================] - 2s 106ms/step - loss: -35.8047 - accuracy: 0.8634 - val_loss: 2.7142 - val_accuracy: 0.8082\n",
            "Epoch 17/30\n",
            "19/19 [==============================] - 2s 111ms/step - loss: -40.3399 - accuracy: 0.8591 - val_loss: 3.4928 - val_accuracy: 0.8322\n",
            "Epoch 18/30\n",
            "19/19 [==============================] - 2s 111ms/step - loss: -48.0748 - accuracy: 0.8591 - val_loss: 14.4656 - val_accuracy: 0.7911\n",
            "Epoch 19/30\n",
            "19/19 [==============================] - 3s 158ms/step - loss: -54.3807 - accuracy: 0.8591 - val_loss: 2.4955 - val_accuracy: 0.8596\n",
            "Epoch 20/30\n",
            "19/19 [==============================] - 3s 131ms/step - loss: -60.9480 - accuracy: 0.8625 - val_loss: 6.4623 - val_accuracy: 0.8425\n",
            "Epoch 21/30\n",
            "19/19 [==============================] - 2s 109ms/step - loss: -67.8384 - accuracy: 0.8625 - val_loss: 14.2137 - val_accuracy: 0.8116\n",
            "Epoch 22/30\n",
            "19/19 [==============================] - 2s 110ms/step - loss: -75.6840 - accuracy: 0.8574 - val_loss: 13.2948 - val_accuracy: 0.8356\n",
            "Epoch 23/30\n",
            "19/19 [==============================] - 2s 111ms/step - loss: -84.8485 - accuracy: 0.8643 - val_loss: 6.8208 - val_accuracy: 0.8630\n",
            "Epoch 24/30\n",
            "19/19 [==============================] - 2s 108ms/step - loss: -91.7061 - accuracy: 0.8634 - val_loss: 2.8055 - val_accuracy: 0.8562\n",
            "Epoch 25/30\n",
            "19/19 [==============================] - 3s 181ms/step - loss: -81.8017 - accuracy: 0.8393 - val_loss: 13.2970 - val_accuracy: 0.8527\n",
            "Epoch 26/30\n",
            "19/19 [==============================] - 2s 109ms/step - loss: -101.9905 - accuracy: 0.8634 - val_loss: 19.6195 - val_accuracy: 0.8322\n",
            "Epoch 27/30\n",
            "19/19 [==============================] - 2s 107ms/step - loss: -104.8465 - accuracy: 0.8582 - val_loss: 12.5926 - val_accuracy: 0.8322\n",
            "Epoch 28/30\n",
            "19/19 [==============================] - 2s 107ms/step - loss: -123.8152 - accuracy: 0.8591 - val_loss: 20.3007 - val_accuracy: 0.8185\n",
            "Epoch 29/30\n",
            "19/19 [==============================] - 2s 110ms/step - loss: -138.3624 - accuracy: 0.8591 - val_loss: 16.9724 - val_accuracy: 0.8356\n",
            "Epoch 30/30\n",
            "19/19 [==============================] - 2s 120ms/step - loss: -149.0347 - accuracy: 0.8643 - val_loss: 15.9159 - val_accuracy: 0.8493\n"
          ]
        }
      ],
      "source": [
        "#fitting the data and executing the model.\n",
        "model_run = model.fit(X_train, y_train, epochs=30, batch_size=64, validation_split=0.2)"
      ],
      "id": "M9y-h8crSk5x"
    },
    {
      "cell_type": "code",
      "execution_count": 49,
      "metadata": {
        "colab": {
          "base_uri": "https://localhost:8080/"
        },
        "id": "scRwD5b_NXHF",
        "outputId": "c9119145-afc6-40dc-c6c0-b240163a3a5e"
      },
      "outputs": [
        {
          "output_type": "stream",
          "name": "stdout",
          "text": [
            "20/20 [==============================] - 0s 15ms/step - loss: -48.3970 - accuracy: 0.7885\n"
          ]
        }
      ],
      "source": [
        "# Evaluate the model on the testing set\n",
        "loss, accuracy = model.evaluate(X_test, y_test)"
      ],
      "id": "scRwD5b_NXHF"
    },
    {
      "cell_type": "code",
      "source": [
        "loss_train, accuracy_train = model.evaluate(X_train, y_train)"
      ],
      "metadata": {
        "colab": {
          "base_uri": "https://localhost:8080/"
        },
        "id": "zBI4n1JlpqnN",
        "outputId": "1d31b678-038b-4c4b-b65e-dd8a22f09b92"
      },
      "id": "zBI4n1JlpqnN",
      "execution_count": 50,
      "outputs": [
        {
          "output_type": "stream",
          "name": "stdout",
          "text": [
            "46/46 [==============================] - 1s 20ms/step - loss: -120.6405 - accuracy: 0.8620\n"
          ]
        }
      ]
    },
    {
      "cell_type": "markdown",
      "source": [
        "Accuracy is good for a simple model like this. \n",
        "\n",
        "Let's look how weel it performs on the test data and new data."
      ],
      "metadata": {
        "id": "OGxuXulCof35"
      },
      "id": "OGxuXulCof35"
    },
    {
      "cell_type": "code",
      "execution_count": 51,
      "metadata": {
        "colab": {
          "base_uri": "https://localhost:8080/"
        },
        "id": "mo4J-onwNXbQ",
        "outputId": "3c35997a-a0fa-411d-a7c3-4d81915d552e"
      },
      "outputs": [
        {
          "output_type": "stream",
          "name": "stdout",
          "text": [
            "Test Loss: -48.396995544433594\n",
            "Test Accuracy: 0.7884615659713745\n",
            "20/20 [==============================] - 2s 28ms/step\n"
          ]
        }
      ],
      "source": [
        "print('Test Loss:', loss)\n",
        "print('Test Accuracy:', accuracy)\n",
        "\n",
        "# Make predictions on the testing set\n",
        "y_pred = model.predict(X_test)\n",
        "y_pred = (y_pred > 0.5)"
      ],
      "id": "mo4J-onwNXbQ"
    },
    {
      "cell_type": "markdown",
      "source": [
        "Let's plot the graph. "
      ],
      "metadata": {
        "id": "g_q27unvr1Sz"
      },
      "id": "g_q27unvr1Sz"
    },
    {
      "cell_type": "code",
      "source": [
        "import matplotlib.pyplot as plt\n",
        "\n",
        "# Plot training and validation accuracy\n",
        "plt.plot(model_run.history['accuracy'], label='Training Accuracy')\n",
        "plt.plot(model_run.history['val_accuracy'], label='Testing Accuracy')\n",
        "plt.title('Training and Testing Accuracy')\n",
        "plt.xlabel('Epochs')\n",
        "plt.ylabel('Accuracy')\n",
        "plt.legend()\n",
        "plt.show()\n",
        "\n",
        "# Plot training and validation loss\n",
        "plt.plot(model_run.history['loss'], label='Training Loss')\n",
        "plt.plot(model_run.history['val_loss'], label='Testing Loss')\n",
        "plt.title('Training and Testing Loss')\n",
        "plt.xlabel('Epochs')\n",
        "plt.ylabel('Loss')\n",
        "plt.legend()\n",
        "plt.show()\n"
      ],
      "metadata": {
        "colab": {
          "base_uri": "https://localhost:8080/",
          "height": 937
        },
        "id": "7rFtp6Lgp9Y0",
        "outputId": "f9254fa9-7914-4743-e872-e91e43bbfd8e"
      },
      "id": "7rFtp6Lgp9Y0",
      "execution_count": 52,
      "outputs": [
        {
          "output_type": "display_data",
          "data": {
            "text/plain": [
              "<Figure size 640x480 with 1 Axes>"
            ],
            "image/png": "[encoded data removed]"
          },
          "metadata": {}
        },
        {
          "output_type": "display_data",
          "data": {
            "text/plain": [
              "<Figure size 640x480 with 1 Axes>"
            ],
            "image/png": "[encoded data removed]"
          },
          "metadata": {}
        }
      ]
    },
    {
      "cell_type": "markdown",
      "source": [
        "## Prediction"
      ],
      "metadata": {
        "id": "qhzv_fiA1YK0"
      },
      "id": "qhzv_fiA1YK0"
    },
    {
      "cell_type": "code",
      "source": [
        "def prediction_fn(sentence):\n",
        "    sent = [data_processing(sentence)]\n",
        "    sequences = tokenizer.texts_to_sequences(sent)\n",
        "    pred = model.predict(pad_sequences(sequences, maxlen=maxlen))\n",
        "    labels = (pred >= 0.5).astype(int) \n",
        "    \n",
        "    if labels[0] == 0:\n",
        "        print(\"Negative\")\n",
        "    else:\n",
        "        print(\"Positive\")\n",
        "    print(\"\")"
      ],
      "metadata": {
        "id": "gOmWqNTq1XqO"
      },
      "id": "gOmWqNTq1XqO",
      "execution_count": 53,
      "outputs": []
    },
    {
      "cell_type": "code",
      "source": [
        "#Predicting for unseen sentences\n",
        "positive_sentences = [   \"UMass offers a diverse range of academic programs and majors.\",\n",
        "                      \"The campus facilities at UMass are modern and well-equipped.\",\n",
        "                      \"UMass provides ample opportunities for student research and internships.\",\n",
        "                      \"The faculty at UMass are highly knowledgeable and supportive.\",\n",
        "                      \"The UMass community fosters a strong sense of belonging and inclusivity.\",\n",
        "                      \"UMass offers a vibrant and active student life with various clubs and organizations.\",\n",
        "                      \"The career services at UMass are dedicated to helping students succeed.\",\n",
        "                      \"UMass is located in a great area\", \n",
        "                      \"The staff at UMass are always helpful\",\n",
        "                      \"UMass has a beautiful campus with plenty of green spaces.\"]\n",
        "\n",
        "for sent in positive_sentences:\n",
        "    prediction_fn(sent)"
      ],
      "metadata": {
        "colab": {
          "base_uri": "https://localhost:8080/"
        },
        "id": "E6ob7WH7vhjV",
        "outputId": "cf647def-cd04-4124-b641-9ac5eaccc8f5"
      },
      "id": "E6ob7WH7vhjV",
      "execution_count": 54,
      "outputs": [
        {
          "output_type": "stream",
          "name": "stdout",
          "text": [
            "1/1 [==============================] - 1s 811ms/step\n",
            "Positive\n",
            "\n",
            "1/1 [==============================] - 0s 27ms/step\n",
            "Positive\n",
            "\n",
            "1/1 [==============================] - 0s 35ms/step\n",
            "Positive\n",
            "\n",
            "1/1 [==============================] - 0s 27ms/step\n",
            "Positive\n",
            "\n",
            "1/1 [==============================] - 0s 26ms/step\n",
            "Positive\n",
            "\n",
            "1/1 [==============================] - 0s 31ms/step\n",
            "Positive\n",
            "\n",
            "1/1 [==============================] - 0s 34ms/step\n",
            "Positive\n",
            "\n",
            "1/1 [==============================] - 0s 26ms/step\n",
            "Positive\n",
            "\n",
            "1/1 [==============================] - 0s 33ms/step\n",
            "Positive\n",
            "\n",
            "1/1 [==============================] - 0s 30ms/step\n",
            "Positive\n",
            "\n"
          ]
        }
      ]
    },
    {
      "cell_type": "code",
      "execution_count": 55,
      "metadata": {
        "colab": {
          "base_uri": "https://localhost:8080/"
        },
        "id": "wuuKrRxGNjkQ",
        "outputId": "67efdc87-6e95-442f-9ea9-04b23e12e87f"
      },
      "outputs": [
        {
          "output_type": "stream",
          "name": "stdout",
          "text": [
            "1/1 [==============================] - 0s 31ms/step\n",
            "Positive\n",
            "\n",
            "1/1 [==============================] - 0s 29ms/step\n",
            "Positive\n",
            "\n",
            "1/1 [==============================] - 0s 28ms/step\n",
            "Positive\n",
            "\n"
          ]
        }
      ],
      "source": [
        "negative_sentences = [\"Never expected environment\",    \"Bad university in for Massuchu\",    \"Fee is very high, bad situation for students,  not recommended\"]\n",
        "\n",
        "for sent in negative_sentences:\n",
        "    prediction_fn(sent)"
      ],
      "id": "wuuKrRxGNjkQ"
    },
    {
      "cell_type": "markdown",
      "source": [
        "Model is not able to predict for soem negative sentences.  It might be overfitted. "
      ],
      "metadata": {
        "id": "dNWaZvFp3XoR"
      },
      "id": "dNWaZvFp3XoR"
    },
    {
      "cell_type": "markdown",
      "source": [
        "Let's check the scores"
      ],
      "metadata": {
        "id": "tK1Cmxvd3-93"
      },
      "id": "tK1Cmxvd3-93"
    },
    {
      "cell_type": "code",
      "source": [
        "from sklearn.metrics import accuracy_score, precision_score, recall_score, f1_score, confusion_matrix\n",
        "import seaborn as sns\n",
        "\n",
        "# predictions on the testing set\n",
        "y_pred_probs = model.predict(X_test)\n",
        "y_pred = np.argmax(y_pred_probs, axis=1)\n",
        "\n",
        "# evaluation metrics\n",
        "accuracy = accuracy_score(y_test, y_pred)\n",
        "precision = precision_score(y_test, y_pred, average='weighted')\n",
        "recall = recall_score(y_test, y_pred, average='weighted')\n",
        "f1 = f1_score(y_test, y_pred, average='weighted')\n",
        "\n",
        "#confusion matrix\n",
        "cm = confusion_matrix(y_test, y_pred)\n",
        "\n",
        "\n",
        "# Print evaluation metrics\n",
        "print(\"Accuracy:\", accuracy)\n",
        "print(\"Precision:\", precison)\n",
        "print(\"Recall:\", recall)\n",
        "print(\"F1-score:\", f1)\n",
        "\n",
        "# confusion matrix\n",
        "plt.figure(figsize=(8, 6))\n",
        "sns.heatmap(cm, annot=True, fmt='d', cmap='Blues', cbar=False)\n",
        "plt.title(\"Confusion Matrix\")\n",
        "plt.xlabel(\"Predicted Labels\")\n",
        "plt.ylabel(\"True Labels\")\n",
        "plt.show()"
      ],
      "metadata": {
        "colab": {
          "base_uri": "https://localhost:8080/",
          "height": 742
        },
        "id": "DLh239z0Kljs",
        "outputId": "3e9521ad-6017-4b42-9cb9-000eb0fa6ff7"
      },
      "id": "DLh239z0Kljs",
      "execution_count": 57,
      "outputs": [
        {
          "output_type": "stream",
          "name": "stdout",
          "text": [
            "20/20 [==============================] - 0s 14ms/step\n",
            "Accuracy: 0.71111\n",
            "Precision: 0.506\n",
            "Recall: 0.711\n",
            "F1-score: 0.5671\n"
          ]
        },
        {
          "output_type": "stream",
          "name": "stderr",
          "text": [
            "/usr/local/lib/python3.10/dist-packages/sklearn/metrics/_classification.py:1344: UndefinedMetricWarning: Precision is ill-defined and being set to 0.0 in labels with no predicted samples. Use `zero_division` parameter to control this behavior.\n",
            "  _warn_prf(average, modifier, msg_start, len(result))\n",
            "/usr/local/lib/python3.10/dist-packages/sklearn/metrics/_classification.py:1344: UndefinedMetricWarning: Recall is ill-defined and being set to 0.0 in labels with no true samples. Use `zero_division` parameter to control this behavior.\n",
            "  _warn_prf(average, modifier, msg_start, len(result))\n"
          ]
        },
        {
          "output_type": "display_data",
          "data": {
            "text/plain": [
              "<Figure size 800x600 with 1 Axes>"
            ],
            "image/png": "[encoded data removed]"
          },
          "metadata": {}
        }
      ]
    },
    {
      "cell_type": "code",
      "source": [],
      "metadata": {
        "id": "guWzcJFl7h0B"
      },
      "id": "guWzcJFl7h0B",
      "execution_count": 382,
      "outputs": []
    }
  ],
  "metadata": {
    "colab": {
      "provenance": []
    },
    "kernelspec": {
      "display_name": "Python 3 (ipykernel)",
      "language": "python",
      "name": "python3"
    },
    "language_info": {
      "codemirror_mode": {
        "name": "ipython",
        "version": 3
      },
      "file_extension": ".py",
      "mimetype": "text/x-python",
      "name": "python",
      "nbconvert_exporter": "python",
      "pygments_lexer": "ipython3",
      "version": "3.10.9"
    }
  },
  "nbformat": 4,
  "nbformat_minor": 5
}